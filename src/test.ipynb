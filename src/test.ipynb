{
 "cells": [
  {
   "cell_type": "code",
   "execution_count": 2,
   "metadata": {},
   "outputs": [
    {
     "name": "stderr",
     "output_type": "stream",
     "text": [
      "/home/sibava/miniconda3/envs/psat5/lib/python3.9/site-packages/tqdm/auto.py:22: TqdmWarning: IProgress not found. Please update jupyter and ipywidgets. See https://ipywidgets.readthedocs.io/en/stable/user_install.html\n",
      "  from .autonotebook import tqdm as notebook_tqdm\n"
     ]
    }
   ],
   "source": [
    "from transformers import T5Tokenizer,T5ForConditionalGeneration\n",
    "import itertools\n",
    "import torch"
   ]
  },
  {
   "cell_type": "code",
   "execution_count": 13,
   "metadata": {},
   "outputs": [
    {
     "data": {
      "text/plain": [
       "<All keys matched successfully>"
      ]
     },
     "execution_count": 13,
     "metadata": {},
     "output_type": "execute_result"
    }
   ],
   "source": [
    "t5_tokenizer = T5Tokenizer.from_pretrained(\"megagonlabs/t5-base-japanese-web\")\n",
    "t5_model = T5ForConditionalGeneration.from_pretrained(\"megagonlabs/t5-base-japanese-web\")\n",
    "t5_model.resize_token_embeddings(len(t5_tokenizer))\n",
    "t5_model.load_state_dict(torch.load('/home/sibava/PAS-T5/models/sahen-compl-0823/checkpoint-3500/pytorch_model.bin'))"
   ]
  },
  {
   "cell_type": "code",
   "execution_count": 15,
   "metadata": {},
   "outputs": [],
   "source": [
    "context = '中国経済はインフレ、地域格差などの問題を含みながらも、成長軌道を<extra_id_0>急進して<extra_id_1>いる。'\n",
    "out = '<extra_id_99> が軌道を急進し'"
   ]
  },
  {
   "cell_type": "code",
   "execution_count": 18,
   "metadata": {},
   "outputs": [],
   "source": [
    "input_ids = t5_tokenizer(context,return_tensors='pt').input_ids\n",
    "labels = t5_tokenizer(out,return_tensors='pt').input_ids"
   ]
  },
  {
   "cell_type": "code",
   "execution_count": 19,
   "metadata": {},
   "outputs": [],
   "source": [
    "output = t5_model(input_ids=input_ids,labels=labels)"
   ]
  },
  {
   "cell_type": "code",
   "execution_count": 20,
   "metadata": {},
   "outputs": [
    {
     "data": {
      "text/plain": [
       "tensor(2.2511, grad_fn=<NllLossBackward0>)"
      ]
     },
     "execution_count": 20,
     "metadata": {},
     "output_type": "execute_result"
    }
   ],
   "source": [
    "output.loss"
   ]
  },
  {
   "cell_type": "code",
   "execution_count": null,
   "metadata": {},
   "outputs": [],
   "source": [
    "tokenizer = T5Tokenizer.from_pretrained(megagonlabs/t5-base-japanese-web)"
   ]
  },
  {
   "cell_type": "code",
   "execution_count": null,
   "metadata": {},
   "outputs": [],
   "source": [
    "context = [私はリンゴをたべる,こんにちは]"
   ]
  },
  {
   "cell_type": "code",
   "execution_count": null,
   "metadata": {},
   "outputs": [],
   "source": [
    "context_ids = tokenizer(context,add_special_tokens=False).input_ids\n",
    "input_ids = [tokenizer.eos_token_id]\n",
    "for sentence_ids in context_ids[::-1]:\n",
    "\tif len(input_ids) + len(sentence_ids) < 512:\n",
    "\t\tinput_ids = sentence_ids + input_ids\n",
    "input_ids += [tokenizer.pad_token_id] * (512 - len(input_ids))\n",
    "truncated_input_ids = input_ids\n",
    "print(truncated_input_ids)"
   ]
  }
 ],
 "metadata": {
  "kernelspec": {
   "display_name": "Python 3.9.12 ('psat5')",
   "language": "python",
   "name": "python3"
  },
  "language_info": {
   "codemirror_mode": {
    "name": "ipython",
    "version": 3
   },
   "file_extension": ".py",
   "mimetype": "text/x-python",
   "name": "python",
   "nbconvert_exporter": "python",
   "pygments_lexer": "ipython3",
   "version": "3.9.12"
  },
  "orig_nbformat": 4,
  "vscode": {
   "interpreter": {
    "hash": "85644eeca380b35874bb5238156bf82a7fba876716ebaf69f91f463ecb287447"
   }
  }
 },
 "nbformat": 4,
 "nbformat_minor": 2
}

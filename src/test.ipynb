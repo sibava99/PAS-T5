{
 "cells": [
  {
   "cell_type": "code",
   "execution_count": 74,
   "metadata": {},
   "outputs": [],
   "source": [
    "from transformers import T5Tokenizer\n",
    "import itertools"
   ]
  },
  {
   "cell_type": "code",
   "execution_count": 75,
   "metadata": {},
   "outputs": [],
   "source": [
    "tokenizer = T5Tokenizer.from_pretrained('megagonlabs/t5-base-japanese-web')"
   ]
  },
  {
   "cell_type": "code",
   "execution_count": 78,
   "metadata": {},
   "outputs": [],
   "source": [
    "context = ['私はリンゴをたべる','こんにちは']"
   ]
  },
  {
   "cell_type": "code",
   "execution_count": 85,
   "metadata": {},
   "outputs": [
    {
     "ename": "IndentationError",
     "evalue": "unexpected indent (1383649640.py, line 2)",
     "output_type": "error",
     "traceback": [
      "\u001b[0;36m  Input \u001b[0;32mIn [85]\u001b[0;36m\u001b[0m\n\u001b[0;31m    input_ids = [tokenizer.eos_token_id]\u001b[0m\n\u001b[0m    ^\u001b[0m\n\u001b[0;31mIndentationError\u001b[0m\u001b[0;31m:\u001b[0m unexpected indent\n"
     ]
    }
   ],
   "source": [
    "context_ids = tokenizer(context,add_special_tokens=False).input_ids\n",
    "input_ids = [tokenizer.eos_token_id]\n",
    "for sentence_ids in context_ids[::-1]:\n",
    "\tif len(input_ids) + len(sentence_ids) < 512:\n",
    "\t\tinput_ids = sentence_ids + input_ids\n",
    "input_ids += [tokenizer.pad_token_id] * (512 - len(input_ids))\n",
    "truncated_input_ids = input_ids\n",
    "print(truncated_input_ids)"
   ]
  }
 ],
 "metadata": {
  "kernelspec": {
   "display_name": "Python 3.10.4 ('past5')",
   "language": "python",
   "name": "python3"
  },
  "language_info": {
   "codemirror_mode": {
    "name": "ipython",
    "version": 3
   },
   "file_extension": ".py",
   "mimetype": "text/x-python",
   "name": "python",
   "nbconvert_exporter": "python",
   "pygments_lexer": "ipython3",
   "version": "3.10.4"
  },
  "orig_nbformat": 4,
  "vscode": {
   "interpreter": {
    "hash": "ddd0328b93f037be36c8bc1297f7be7b8101b8d46c7a948397b3c0aab42116a6"
   }
  }
 },
 "nbformat": 4,
 "nbformat_minor": 2
}

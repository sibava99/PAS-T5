{
 "cells": [
  {
   "cell_type": "code",
   "execution_count": null,
   "metadata": {},
   "outputs": [],
   "source": [
    "from transformers import T5Tokenizer,T5ForConditionalGeneration\n",
    "import itertools\n",
    "import torch"
   ]
  },
  {
   "cell_type": "code",
   "execution_count": null,
   "metadata": {},
   "outputs": [],
   "source": [
    "tokenizer = T5Tokenizer.from_pretrained(\"megagonlabs/t5-base-japanese-web\")\n",
    "model = T5ForConditionalGeneration.from_pretrained(\"megagonlabs/t5-base-japanese-web\")\n",
    "model.resize_token_embeddings(len(tokenizer))\n",
    "model.load_state_dict(torch.load('/home/sibava/PAS-T5/models/sahen-compl-0823/checkpoint-3500/pytorch_model.bin'))"
   ]
  },
  {
   "cell_type": "code",
   "execution_count": null,
   "metadata": {},
   "outputs": [],
   "source": [
    "context = [['後', 'に', '昭和', 'に', '入って', '、', '反軍', '演説', 'で', '名', 'を', '馳せた', '憲政', '会', 'の', '斎藤', '隆夫', 'が', '、', '日記', 'に', 'こう', '記した', 'の', 'は', '、', 'いわゆる', '男子', '普通', '選挙', '法', 'が', '成立', 'した', '一九二五', '年', '三', '月', '二十九', '日', 'の', 'こと', 'であった', '。'], ['それ', 'まで', '総', '人口', 'の', 'わずか', '二', '％', '程度', 'だった', '有権者', '数', 'が', '、', '一挙に', '二〇', '％', 'に', '拡大', 'さ', 'れ', '、', '確かに', '、', '選挙', '制度', 'と', 'して', '画期的な', 'もの', 'で', 'は', 'あった', '。'], ['「', '我國', 'の', '政界', 'に', '新', '時代', 'を', '畫す', 'べき', '當日', 'の', '兩院', 'の', '傍聴', '席', 'に', 'は', '流石', 'に', '熱心な', '聴衆', 'の', '緊張', 'した', '顔', 'が', '幾重にも', 'ぎっしり', 'と', '重なり合ひ', '……', '」'], ['毎日新聞', 'の', '前身', '、', '「', '東京', '日日新聞', '」', 'は', '同年', '三', '月', '三十', '日', '付', '朝刊', 'で', '成立', 'の', '様子', 'を', 'こう', '伝えて', 'いる', '。'], ['「', '選挙', '」', 'と', 'いう', '制度', 'は', '、', '人間', 'が', '考え', '出した', '政治', 'の', 'システム', 'の', '中', 'で', 'は', '、', '最良', '、', '最高の', '英知', 'だ', 'と', 'さ', 'れる', '。'], ['日本', 'の', '選挙', '制度', 'は', '一八八九', '年', '、', '小', '選挙', '区', '制', '中心', 'で', 'スタート', 'した', 'のだ', 'が', '、', '現行', 'の', '制度', 'は', '、', 'この', '男子', '普選', '法', 'が', '原型', 'と', 'なって', 'いる', '。'], ['冷戦', 'の', '終えん', 'が', '「', 'どんな', '政党', 'でも', '政権', 'を', '担う', 'こと', 'が', '出来る', '」', '状況', 'を', 'もたらし', '、', '三十八', '年間', 'の', '自民党', '支配', 'から', '覚めた', '日本', 'の', '政治', 'だ', 'が', '、', '同時に', '、', '行き詰まった', '利益', '誘導', '型', '政治', 'に', '代わる', '政治', 'の', '目標', 'と', 'して', 'の', '「', '価値', '」', 'を', '見失って', 'しまい', '、', '政治', '全体', 'が', '漂流', '状態', 'に', '陥った', '。'], ['政治', 'へ', 'の', '不満', 'うっせき', 'と', '、', '政治', 'から', 'の', '逃避', '、', 'しらけ', '、', 'の', '両極', 'ばかり', 'が', '混じり合う', 'この', '世相', '。'], ['政治', 'が', '目指す', '「', '価値', '」', 'を', 'どう', 'とらえ', '直し', '、', 'ポスト', '冷戦', 'や', '、', '二十一', '世紀', 'に', '密着', 'した', '具体', '目標', 'を', 'どう', '定める', 'か', '、', '腰', 'を', '据えて', '取りかかる', 'とき', 'だ', '。'], ['折しも', '「', '選択', 'の', '年', '」', 'である', '一九九五', '年', '。'], ['至極', '当たり前な', 'こと', 'な', 'のに', '、', 'すっかり', '見落とさ', 'れて', 'いる', '政治', 'の', '仕組み', 'から', '、', 'まず', '点検', 'して', 'み', 'たい', '。'], ['第', '一', '、', '政治', '家', 'も', '有権者', 'も', '、', '議員', 'は', '「', '代表', '」', 'で', 'は', 'なく', '「', '代理', '」', 'だ', 'と', '思い込んで', 'い', 'ない', 'か', '。'], ['国会', '議員', 'は', '、', '全', '国民', 'を', '代表', 'する', 'のであって', '、', '個々', 'の', '有権者', '、', '個々', 'の', '地域', 'の', '委任', 'を', '受けて', 'いる', 'わけで', 'は', 'ない', 'こと', 'を', '忘れて', 'い', 'ない', 'か', '。'], ['そして', '、', '政治', 'は', '、', '官僚', '組織', 'など', 'と', '違い', '、', '国民', 'が', '直接', 'コントロール', 'し', '得る', 'のだ', '、', 'と', 'いう', '仕組み', 'を', '置き忘れて', 'い', 'ない', 'か', '。'], ['なあんだ', '、', '分かりきって', 'いる', '、', 'と', '言わ', 'れる', 'かも', 'しれ', 'ない', '。'], ['だが', '、', '政治', 'が', '自分', 'たち', 'から', '離れて', 'いった', '元', 'を', '正せば', '、', 'ここ', 'に', 'たどり着く', '。'], ['地域', 'や', '個人', '、', '業界', 'の', '「', '代理人', '」', 'だ', 'と', '誤解', 'して', 'いる', 'から', '、', '地元', 'に', '橋', 'や', '道路', 'を', '造り', '、', '業界', 'など', 'に', '利益', 'を', '還元', 'して', 'くれる', '議員', 'が', '「', 'いい', '議員', '」', 'である', 'と', 'いう', '「', 'ねじ曲がった', '最良の', '英知', '」', 'に', 'なり果てた', '。'], ['二五', '年', 'の', '男子', '普選', '法', 'に', '対して', '、', '東京', '日日新聞', 'は', '、', '実は', '社説', 'で', 'は', '、', '当時', 'の', '世界', 'の', '議会', '制', 'の', '水準', 'に', '<extra_id_0>', 'ほど遠い', '<extra_id_1>', '内容', 'だ', 'と', '、', '厳しく', '批判', 'した', '。']]"
   ]
  },
  {
   "cell_type": "code",
   "execution_count": null,
   "metadata": {},
   "outputs": [],
   "source": [
    "input_ids = t5_tokenizer(context,return_tensors='pt').input_ids\n",
    "labels = t5_tokenizer(out,return_tensors='pt').input_ids"
   ]
  },
  {
   "cell_type": "code",
   "execution_count": null,
   "metadata": {},
   "outputs": [],
   "source": [
    "concated_context = ''.join(list(itertools.chain.from_iterable(context)))\n",
    "padded_input_ids = tokenizer(concated_context,max_length=512,padding=\"max_length\").input_ids\n",
    "truncated_input_ids2 = padded_input_ids[len(padded_input_ids)-512:]"
   ]
  },
  {
   "cell_type": "code",
   "execution_count": null,
   "metadata": {},
   "outputs": [],
   "source": [
    "context_ids = tokenizer([''.join(sent) for sent in context],add_special_tokens=False).input_ids\n",
    "input_ids = [tokenizer.eos_token_id]\n",
    "for sentence_ids in context_ids[::-1]:\n",
    "\tif len(input_ids) + len(sentence_ids) < 512:\n",
    "\t\tinput_ids = sentence_ids + input_ids\n",
    "\telse:\n",
    "\t\tbreak\n",
    "input_ids += [tokenizer.pad_token_id] * (512 - len(input_ids))\n",
    "truncated_input_ids = input_ids"
   ]
  },
  {
   "cell_type": "code",
   "execution_count": null,
   "metadata": {},
   "outputs": [],
   "source": [
    "print(truncated_input_ids)\n",
    "print(truncated_input_ids2)"
   ]
  }
 ],
 "metadata": {
  "kernelspec": {
   "display_name": "Python 3.9.12 ('psat5')",
   "language": "python",
   "name": "python3"
  },
  "language_info": {
   "codemirror_mode": {
    "name": "ipython",
    "version": 3
   },
   "file_extension": ".py",
   "mimetype": "text/x-python",
   "name": "python",
   "nbconvert_exporter": "python",
   "pygments_lexer": "ipython3",
   "version": "3.9.12"
  },
  "orig_nbformat": 4,
  "vscode": {
   "interpreter": {
    "hash": "85644eeca380b35874bb5238156bf82a7fba876716ebaf69f91f463ecb287447"
   }
  }
 },
 "nbformat": 4,
 "nbformat_minor": 2
}

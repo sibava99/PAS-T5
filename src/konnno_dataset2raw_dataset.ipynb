{
 "cells": [
  {
   "cell_type": "code",
   "execution_count": 1,
   "metadata": {},
   "outputs": [
    {
     "name": "stdout",
     "output_type": "stream",
     "text": [
      "/home/sibava/corpus\n"
     ]
    }
   ],
   "source": [
    "%cd ~/corpus"
   ]
  },
  {
   "cell_type": "code",
   "execution_count": 2,
   "metadata": {},
   "outputs": [
    {
     "name": "stderr",
     "output_type": "stream",
     "text": [
      "/home/sibava/miniconda3/envs/psat5/lib/python3.9/site-packages/tqdm/auto.py:22: TqdmWarning: IProgress not found. Please update jupyter and ipywidgets. See https://ipywidgets.readthedocs.io/en/stable/user_install.html\n",
      "  from .autonotebook import tqdm as notebook_tqdm\n"
     ]
    }
   ],
   "source": [
    "import json\n",
    "from transformers import T5Tokenizer\n",
    "import pprint\n",
    "import copy\n",
    "import itertools\n",
    "from tqdm.auto import tqdm\n",
    "import glob\n",
    "import os"
   ]
  },
  {
   "cell_type": "code",
   "execution_count": 3,
   "metadata": {},
   "outputs": [],
   "source": [
    "tokenizer = T5Tokenizer.from_pretrained('megagonlabs/t5-base-japanese-web')"
   ]
  },
  {
   "cell_type": "code",
   "execution_count": 9,
   "metadata": {},
   "outputs": [
    {
     "data": {
      "text/plain": [
       "'発見した'"
      ]
     },
     "execution_count": 9,
     "metadata": {},
     "output_type": "execute_result"
    }
   ],
   "source": [
    "tokenizer.decode([18336])"
   ]
  },
  {
   "cell_type": "code",
   "execution_count": 4,
   "metadata": {},
   "outputs": [],
   "source": [
    "case_en_ja = {\n",
    "\t'ga':'が',\n",
    "\t'o':'を',\n",
    "\t'ni':'に',\n",
    "\t'yotte':'によって'\n",
    "}"
   ]
  },
  {
   "cell_type": "code",
   "execution_count": 6,
   "metadata": {},
   "outputs": [
    {
     "name": "stderr",
     "output_type": "stream",
     "text": [
      "  0%|          | 0/1751 [00:00<?, ?it/s]/home/sibava/miniconda3/envs/psat5/lib/python3.9/site-packages/transformers/models/t5/tokenization_t5.py:194: UserWarning: This sequence already has </s>. In future versions this behavior may lead to duplicated eos tokens being added.\n",
      "  warnings.warn(\n",
      "100%|██████████| 1751/1751 [01:16<00:00, 22.82it/s]\n",
      "100%|██████████| 480/480 [00:13<00:00, 35.44it/s]\n",
      "100%|██████████| 696/696 [00:28<00:00, 24.15it/s]\n"
     ]
    }
   ],
   "source": [
    "input_path_list = glob.glob(\"/home/sibava/corpus/ntc-train-with-juman-A/*\")\n",
    "output_dir_path = \"/home/sibava/PAS-T5/datasets/pas-dataset-closest\"\n",
    "\n",
    "for input_path in input_path_list:\t\n",
    "\tlines =  open(input_path,mode='r').readlines()\n",
    "\toutputfile_path = os.path.join(output_dir_path,os.path.basename(input_path))\n",
    "\toutputfile = open(outputfile_path,mode='w')\n",
    "\tfor line in tqdm(lines):\n",
    "\t\tdoc = json.loads(line)\n",
    "\t\tsents = doc[\"sents\"]\n",
    "\t\tpas_list = doc[\"pas_list\"]\n",
    "\t\tfor pas in pas_list:\n",
    "\t\t\tpas_dict = json.loads(pas)\n",
    "\t\t\tpredicate = \"\".join([sents[pas_dict[\"prd_sent_idx\"]][i] for i in pas_dict[\"predicate_positions\"]])\n",
    "\t\t\tpredicate_positions = pas_dict[\"predicate_positions\"]\n",
    "\t\t\tprd_sent_idx = pas_dict[\"prd_sent_idx\"]\n",
    "\t\t\talt_type = pas_dict[\"alt_type\"]\n",
    "\t\t\tcontext = copy.deepcopy(sents[0:pas_dict['prd_sent_idx'] + 1])\n",
    "\t\t\tcontext[prd_sent_idx].insert(predicate_positions[0],\"<extra_id_0>\")\n",
    "\t\t\tcontext[prd_sent_idx].insert(predicate_positions[-1] + 2,\"<extra_id_1>\")\n",
    "\t\t\targument_and_case = ''\n",
    "\t\t\tgold_arguments = {}\n",
    "\t\t\tcase_types = {}\n",
    "\t\t\tfor gold in pas_dict[\"gold_labels\"]:\n",
    "\t\t\t\tcase_type = gold['case_type']\n",
    "\t\t\t\tcase_name = gold['case_name']\n",
    "\t\t\t\tcase_types[case_name] = case_type\n",
    "\t\t\t\t# if case_type == 'null':\n",
    "\t\t\t\tif (case_type in ['null']):\n",
    "\t\t\t\t\tgold_arguments[case_name] = []\n",
    "\t\t\t\t\tcontinue\n",
    "\t\t\t\telif case_type.startswith('exog'):\n",
    "\t\t\t\t\tgolds_chain = ['<extra_id_99>']\n",
    "\t\t\t\t\tclosest_gold_argument = '<extra_id_99>'\n",
    "\t\t\t\telif case_type.startswith('exo1'):\n",
    "\t\t\t\t\tgolds_chain = ['<extra_id_98>']\n",
    "\t\t\t\t\tclosest_gold_argument = '<extra_id_98>'\n",
    "\t\t\t\telif case_type.startswith('exo2'):\n",
    "\t\t\t\t\tgolds_chain = ['<extra_id_97>']\n",
    "\t\t\t\t\tclosest_gold_argument = '<extra_id_97>'\n",
    "\t\t\t\telse:\n",
    "\t\t\t\t\tgolds_chain = [sents[x['sent_idx']][x['word_idx']] for x in gold['gold_positions']]\n",
    "\t\t\t\t\tfor x in gold['gold_positions']:\n",
    "\t\t\t\t\t\tif(x['case_type'] == case_type):\n",
    "\t\t\t\t\t\t\tclosest_gold_argument = sents[x['sent_idx']][x['word_idx']] \n",
    "\t\t\t\t\t\t\t#the gold argument that is closest to predicate.In inter setting,the first argument is selected.\n",
    "\t\t\t\t\t\t\tbreak\n",
    "\t\t\t\targument_and_case += closest_gold_argument + case_en_ja[case_name]\n",
    "\t\t\t\tgold_arguments[case_name] = list(set(golds_chain))\n",
    "\t\t\tconcated_context = ''.join(list(itertools.chain.from_iterable(context))) + tokenizer.eos_token\n",
    "\t\t\tpadded_input_ids = tokenizer(concated_context,max_length=512,padding=\"max_length\").input_ids\n",
    "\t\t\tt5_pas_dict = {'input_ids':padded_input_ids[len(padded_input_ids)-512:]}\n",
    "\t\t\tt5_pas_dict['input_tokens'] = concated_context\n",
    "\t\t\tt5_pas_dict['labels'] = tokenizer(argument_and_case + predicate,max_length=30,padding=\"max_length\").input_ids\n",
    "\t\t\tt5_pas_dict['gold_arguments'] = gold_arguments\n",
    "\t\t\tt5_pas_dict['case_types'] = case_types\n",
    "\t\t\tt5_pas_dict['predicate'] = predicate\n",
    "\t\t\tt5_pas_dict['alt_type'] = alt_type\n",
    "\t\t\toutputfile.write(json.dumps(t5_pas_dict) + '\\n')\n",
    "\toutputfile.close()\n"
   ]
  },
  {
   "cell_type": "code",
   "execution_count": 7,
   "metadata": {},
   "outputs": [
    {
     "name": "stdout",
     "output_type": "stream",
     "text": [
      "{'alt_type': 'active',\n",
      " 'gold_labels': [{'case_name': 'ga',\n",
      "                  'case_type': 'dep',\n",
      "                  'gold_positions': [{'case_type': 'dep',\n",
      "                                      'sent_idx': 2,\n",
      "                                      'word_idx': 5}]},\n",
      "                 {'case_name': 'o', 'case_type': 'null', 'gold_positions': []},\n",
      "                 {'case_name': 'ni',\n",
      "                  'case_type': 'null',\n",
      "                  'gold_positions': []}],\n",
      " 'prd_sent_idx': 2,\n",
      " 'predicate_positions': [2, 3]}\n"
     ]
    }
   ],
   "source": [
    "pprint.pprint(json.loads(pas_list[4]))"
   ]
  }
 ],
 "metadata": {
  "interpreter": {
   "hash": "85644eeca380b35874bb5238156bf82a7fba876716ebaf69f91f463ecb287447"
  },
  "kernelspec": {
   "display_name": "Python 3.9.12 ('psat5')",
   "language": "python",
   "name": "python3"
  },
  "language_info": {
   "codemirror_mode": {
    "name": "ipython",
    "version": 3
   },
   "file_extension": ".py",
   "mimetype": "text/x-python",
   "name": "python",
   "nbconvert_exporter": "python",
   "pygments_lexer": "ipython3",
   "version": "3.9.12"
  },
  "orig_nbformat": 4
 },
 "nbformat": 4,
 "nbformat_minor": 2
}
